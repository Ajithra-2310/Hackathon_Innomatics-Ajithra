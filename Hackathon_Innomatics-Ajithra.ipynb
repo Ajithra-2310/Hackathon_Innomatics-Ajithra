{
 "cells": [
  {
   "cell_type": "markdown",
   "id": "0effa110",
   "metadata": {},
   "source": [
    "# Processing Analysis"
   ]
  },
  {
   "cell_type": "code",
   "execution_count": 1,
   "id": "6fa21e6d",
   "metadata": {},
   "outputs": [],
   "source": [
    "import pandas as pd\n",
    "import numpy as np \n",
    "import seaborn as sns\n",
    "import matplotlib.pyplot as plt\n"
   ]
  },
  {
   "cell_type": "code",
   "execution_count": 20,
   "id": "6c5953a8",
   "metadata": {},
   "outputs": [
    {
     "data": {
      "text/html": [
       "<div>\n",
       "<style scoped>\n",
       "    .dataframe tbody tr th:only-of-type {\n",
       "        vertical-align: middle;\n",
       "    }\n",
       "\n",
       "    .dataframe tbody tr th {\n",
       "        vertical-align: top;\n",
       "    }\n",
       "\n",
       "    .dataframe thead th {\n",
       "        text-align: right;\n",
       "    }\n",
       "</style>\n",
       "<table border=\"1\" class=\"dataframe\">\n",
       "  <thead>\n",
       "    <tr style=\"text-align: right;\">\n",
       "      <th></th>\n",
       "      <th>input</th>\n",
       "      <th>output</th>\n",
       "    </tr>\n",
       "  </thead>\n",
       "  <tbody>\n",
       "    <tr>\n",
       "      <th>0</th>\n",
       "      <td>-122.740667</td>\n",
       "      <td>-130.572085</td>\n",
       "    </tr>\n",
       "    <tr>\n",
       "      <th>1</th>\n",
       "      <td>-121.531419</td>\n",
       "      <td>-129.938929</td>\n",
       "    </tr>\n",
       "    <tr>\n",
       "      <th>2</th>\n",
       "      <td>-134.917019</td>\n",
       "      <td>-130.141832</td>\n",
       "    </tr>\n",
       "    <tr>\n",
       "      <th>3</th>\n",
       "      <td>-120.605951</td>\n",
       "      <td>-125.760932</td>\n",
       "    </tr>\n",
       "    <tr>\n",
       "      <th>4</th>\n",
       "      <td>-129.894781</td>\n",
       "      <td>-112.785214</td>\n",
       "    </tr>\n",
       "  </tbody>\n",
       "</table>\n",
       "</div>"
      ],
      "text/plain": [
       "        input      output\n",
       "0 -122.740667 -130.572085\n",
       "1 -121.531419 -129.938929\n",
       "2 -134.917019 -130.141832\n",
       "3 -120.605951 -125.760932\n",
       "4 -129.894781 -112.785214"
      ]
     },
     "execution_count": 20,
     "metadata": {},
     "output_type": "execute_result"
    }
   ],
   "source": [
    "data = pd.read_csv('dataframe_.csv')\n",
    "data.head(5)"
   ]
  },
  {
   "cell_type": "code",
   "execution_count": 21,
   "id": "c28f002a",
   "metadata": {},
   "outputs": [
    {
     "data": {
      "text/plain": [
       "(1697, 2)"
      ]
     },
     "execution_count": 21,
     "metadata": {},
     "output_type": "execute_result"
    }
   ],
   "source": [
    "data.shape"
   ]
  },
  {
   "cell_type": "code",
   "execution_count": 22,
   "id": "d539d4c7",
   "metadata": {},
   "outputs": [
    {
     "data": {
      "text/plain": [
       "Index(['input', 'output'], dtype='object')"
      ]
     },
     "execution_count": 22,
     "metadata": {},
     "output_type": "execute_result"
    }
   ],
   "source": [
    "data.columns"
   ]
  },
  {
   "cell_type": "code",
   "execution_count": 23,
   "id": "e01bd061",
   "metadata": {},
   "outputs": [
    {
     "data": {
      "text/plain": [
       "input     float64\n",
       "output    float64\n",
       "dtype: object"
      ]
     },
     "execution_count": 23,
     "metadata": {},
     "output_type": "execute_result"
    }
   ],
   "source": [
    "data.dtypes"
   ]
  },
  {
   "cell_type": "code",
   "execution_count": 24,
   "id": "7754c672",
   "metadata": {},
   "outputs": [
    {
     "data": {
      "text/plain": [
       "-95.000000     32\n",
       "-78.000000     12\n",
       "-33.000000     12\n",
       "-75.000000     10\n",
       "-32.000000     10\n",
       "               ..\n",
       " 115.000000     1\n",
       "-0.510703       1\n",
       " 115.438049     1\n",
       "-48.473313      1\n",
       "-79.131137      1\n",
       "Name: output, Length: 969, dtype: int64"
      ]
     },
     "execution_count": 24,
     "metadata": {},
     "output_type": "execute_result"
    }
   ],
   "source": [
    "data['output'].value_counts()"
   ]
  },
  {
   "cell_type": "code",
   "execution_count": 25,
   "id": "dea63e74",
   "metadata": {},
   "outputs": [
    {
     "data": {
      "text/plain": [
       "input     1\n",
       "output    1\n",
       "dtype: int64"
      ]
     },
     "execution_count": 25,
     "metadata": {},
     "output_type": "execute_result"
    }
   ],
   "source": [
    "data.isnull().sum()"
   ]
  },
  {
   "cell_type": "code",
   "execution_count": 104,
   "id": "78f85309",
   "metadata": {},
   "outputs": [
    {
     "data": {
      "text/html": [
       "<div>\n",
       "<style scoped>\n",
       "    .dataframe tbody tr th:only-of-type {\n",
       "        vertical-align: middle;\n",
       "    }\n",
       "\n",
       "    .dataframe tbody tr th {\n",
       "        vertical-align: top;\n",
       "    }\n",
       "\n",
       "    .dataframe thead th {\n",
       "        text-align: right;\n",
       "    }\n",
       "</style>\n",
       "<table border=\"1\" class=\"dataframe\">\n",
       "  <thead>\n",
       "    <tr style=\"text-align: right;\">\n",
       "      <th></th>\n",
       "      <th>input</th>\n",
       "      <th>output</th>\n",
       "    </tr>\n",
       "  </thead>\n",
       "  <tbody>\n",
       "    <tr>\n",
       "      <th>0</th>\n",
       "      <td>-122</td>\n",
       "      <td>-130</td>\n",
       "    </tr>\n",
       "    <tr>\n",
       "      <th>1</th>\n",
       "      <td>-121</td>\n",
       "      <td>-129</td>\n",
       "    </tr>\n",
       "    <tr>\n",
       "      <th>2</th>\n",
       "      <td>-134</td>\n",
       "      <td>-130</td>\n",
       "    </tr>\n",
       "    <tr>\n",
       "      <th>3</th>\n",
       "      <td>-120</td>\n",
       "      <td>-125</td>\n",
       "    </tr>\n",
       "    <tr>\n",
       "      <th>4</th>\n",
       "      <td>-129</td>\n",
       "      <td>-112</td>\n",
       "    </tr>\n",
       "    <tr>\n",
       "      <th>...</th>\n",
       "      <td>...</td>\n",
       "      <td>...</td>\n",
       "    </tr>\n",
       "    <tr>\n",
       "      <th>1692</th>\n",
       "      <td>25</td>\n",
       "      <td>-76</td>\n",
       "    </tr>\n",
       "    <tr>\n",
       "      <th>1693</th>\n",
       "      <td>29</td>\n",
       "      <td>-82</td>\n",
       "    </tr>\n",
       "    <tr>\n",
       "      <th>1694</th>\n",
       "      <td>31</td>\n",
       "      <td>-87</td>\n",
       "    </tr>\n",
       "    <tr>\n",
       "      <th>1695</th>\n",
       "      <td>29</td>\n",
       "      <td>-104</td>\n",
       "    </tr>\n",
       "    <tr>\n",
       "      <th>1696</th>\n",
       "      <td>17</td>\n",
       "      <td>-101</td>\n",
       "    </tr>\n",
       "  </tbody>\n",
       "</table>\n",
       "<p>1697 rows × 2 columns</p>\n",
       "</div>"
      ],
      "text/plain": [
       "      input  output\n",
       "0      -122    -130\n",
       "1      -121    -129\n",
       "2      -134    -130\n",
       "3      -120    -125\n",
       "4      -129    -112\n",
       "...     ...     ...\n",
       "1692     25     -76\n",
       "1693     29     -82\n",
       "1694     31     -87\n",
       "1695     29    -104\n",
       "1696     17    -101\n",
       "\n",
       "[1697 rows x 2 columns]"
      ]
     },
     "execution_count": 104,
     "metadata": {},
     "output_type": "execute_result"
    }
   ],
   "source": [
    "data.astype(int)"
   ]
  },
  {
   "cell_type": "code",
   "execution_count": 36,
   "id": "b83938d8",
   "metadata": {},
   "outputs": [],
   "source": [
    "data.fillna(data.mean(numeric_only=True).round(1), inplace=True)\n"
   ]
  },
  {
   "cell_type": "code",
   "execution_count": 38,
   "id": "82cb2de0",
   "metadata": {},
   "outputs": [
    {
     "data": {
      "text/plain": [
       "input     0\n",
       "output    0\n",
       "dtype: int64"
      ]
     },
     "execution_count": 38,
     "metadata": {},
     "output_type": "execute_result"
    }
   ],
   "source": [
    "data.isnull().sum()"
   ]
  },
  {
   "cell_type": "code",
   "execution_count": 39,
   "id": "6e9ecfb4",
   "metadata": {},
   "outputs": [
    {
     "name": "stdout",
     "output_type": "stream",
     "text": [
      "<class 'pandas.core.frame.DataFrame'>\n",
      "RangeIndex: 1697 entries, 0 to 1696\n",
      "Data columns (total 2 columns):\n",
      " #   Column  Non-Null Count  Dtype  \n",
      "---  ------  --------------  -----  \n",
      " 0   input   1697 non-null   float64\n",
      " 1   output  1697 non-null   float64\n",
      "dtypes: float64(2)\n",
      "memory usage: 26.6 KB\n"
     ]
    }
   ],
   "source": [
    "data.info()"
   ]
  },
  {
   "cell_type": "code",
   "execution_count": 40,
   "id": "aedf31fd",
   "metadata": {},
   "outputs": [
    {
     "data": {
      "text/html": [
       "<div>\n",
       "<style scoped>\n",
       "    .dataframe tbody tr th:only-of-type {\n",
       "        vertical-align: middle;\n",
       "    }\n",
       "\n",
       "    .dataframe tbody tr th {\n",
       "        vertical-align: top;\n",
       "    }\n",
       "\n",
       "    .dataframe thead th {\n",
       "        text-align: right;\n",
       "    }\n",
       "</style>\n",
       "<table border=\"1\" class=\"dataframe\">\n",
       "  <thead>\n",
       "    <tr style=\"text-align: right;\">\n",
       "      <th></th>\n",
       "      <th>input</th>\n",
       "      <th>output</th>\n",
       "    </tr>\n",
       "  </thead>\n",
       "  <tbody>\n",
       "    <tr>\n",
       "      <th>count</th>\n",
       "      <td>1697.000000</td>\n",
       "      <td>1697.000000</td>\n",
       "    </tr>\n",
       "    <tr>\n",
       "      <th>mean</th>\n",
       "      <td>1.159956</td>\n",
       "      <td>-34.088024</td>\n",
       "    </tr>\n",
       "    <tr>\n",
       "      <th>std</th>\n",
       "      <td>78.982675</td>\n",
       "      <td>65.751719</td>\n",
       "    </tr>\n",
       "    <tr>\n",
       "      <th>min</th>\n",
       "      <td>-134.962839</td>\n",
       "      <td>-132.422167</td>\n",
       "    </tr>\n",
       "    <tr>\n",
       "      <th>25%</th>\n",
       "      <td>-63.386506</td>\n",
       "      <td>-80.026767</td>\n",
       "    </tr>\n",
       "    <tr>\n",
       "      <th>50%</th>\n",
       "      <td>10.008175</td>\n",
       "      <td>-50.376850</td>\n",
       "    </tr>\n",
       "    <tr>\n",
       "      <th>75%</th>\n",
       "      <td>70.264109</td>\n",
       "      <td>-11.000000</td>\n",
       "    </tr>\n",
       "    <tr>\n",
       "      <th>max</th>\n",
       "      <td>134.605775</td>\n",
       "      <td>134.425495</td>\n",
       "    </tr>\n",
       "  </tbody>\n",
       "</table>\n",
       "</div>"
      ],
      "text/plain": [
       "             input       output\n",
       "count  1697.000000  1697.000000\n",
       "mean      1.159956   -34.088024\n",
       "std      78.982675    65.751719\n",
       "min    -134.962839  -132.422167\n",
       "25%     -63.386506   -80.026767\n",
       "50%      10.008175   -50.376850\n",
       "75%      70.264109   -11.000000\n",
       "max     134.605775   134.425495"
      ]
     },
     "execution_count": 40,
     "metadata": {},
     "output_type": "execute_result"
    }
   ],
   "source": [
    "data.describe()"
   ]
  },
  {
   "cell_type": "code",
   "execution_count": 41,
   "id": "155cb9ea",
   "metadata": {},
   "outputs": [
    {
     "data": {
      "image/png": "[encoded data removed]",
      "text/plain": [
       "<Figure size 1152x288 with 2 Axes>"
      ]
     },
     "metadata": {
      "needs_background": "light"
     },
     "output_type": "display_data"
    }
   ],
   "source": [
    "plt.figure(figsize=(16,4))\n",
    "plt.subplot(1,2,1)\n",
    "sns.distplot(data['input'])\n",
    "plt.subplot(1,2,2)\n",
    "sns.distplot(data['output'])\n",
    "plt.show()"
   ]
  },
  {
   "cell_type": "code",
   "execution_count": 42,
   "id": "7b9a3d2c",
   "metadata": {},
   "outputs": [
    {
     "data": {
      "text/plain": [
       "<AxesSubplot:xlabel='output'>"
      ]
     },
     "execution_count": 42,
     "metadata": {},
     "output_type": "execute_result"
    },
    {
     "data": {
      "image/png": "[encoded data removed]",
      "text/plain": [
       "<Figure size 432x288 with 1 Axes>"
      ]
     },
     "metadata": {
      "needs_background": "light"
     },
     "output_type": "display_data"
    }
   ],
   "source": [
    "sns.boxplot(data['output'])\n"
   ]
  },
  {
   "cell_type": "code",
   "execution_count": 43,
   "id": "a5889e7f",
   "metadata": {},
   "outputs": [
    {
     "data": {
      "text/plain": [
       "<AxesSubplot:xlabel='output', ylabel='count'>"
      ]
     },
     "execution_count": 43,
     "metadata": {},
     "output_type": "execute_result"
    },
    {
     "data": {
      "image/png": "[encoded data removed]",
      "text/plain": [
       "<Figure size 432x288 with 1 Axes>"
      ]
     },
     "metadata": {
      "needs_background": "light"
     },
     "output_type": "display_data"
    }
   ],
   "source": [
    "sns.countplot (x ='output', data =data)"
   ]
  },
  {
   "cell_type": "code",
   "execution_count": 81,
   "id": "7600acfa",
   "metadata": {},
   "outputs": [],
   "source": [
    "from sklearn import preprocessing\n",
    "from sklearn import utils\n",
    "\n",
    "lab_enc_tr = preprocessing.LabelEncoder()\n",
    "encoded = lab_enc_tr.fit_transform(X_test)"
   ]
  },
  {
   "cell_type": "code",
   "execution_count": 82,
   "id": "7a007f29",
   "metadata": {},
   "outputs": [
    {
     "name": "stdout",
     "output_type": "stream",
     "text": [
      "continuous\n"
     ]
    }
   ],
   "source": [
    "print(utils.multiclass.type_of_target(X_test))"
   ]
  },
  {
   "cell_type": "code",
   "execution_count": 83,
   "id": "b69b865e",
   "metadata": {},
   "outputs": [
    {
     "name": "stdout",
     "output_type": "stream",
     "text": [
      "multiclass\n"
     ]
    }
   ],
   "source": [
    "print(utils.multiclass.type_of_target(X_test.astype('int')))"
   ]
  },
  {
   "cell_type": "code",
   "execution_count": 84,
   "id": "5ee42663",
   "metadata": {},
   "outputs": [
    {
     "name": "stdout",
     "output_type": "stream",
     "text": [
      "multiclass\n"
     ]
    }
   ],
   "source": [
    "print(utils.multiclass.type_of_target(encoded))"
   ]
  },
  {
   "cell_type": "code",
   "execution_count": 85,
   "id": "aa6e7abf",
   "metadata": {},
   "outputs": [],
   "source": [
    "lab_enc_te = preprocessing.LabelEncoder()\n",
    "encoded = lab_enc_te.fit_transform(y_train)"
   ]
  },
  {
   "cell_type": "code",
   "execution_count": 86,
   "id": "0396b76b",
   "metadata": {},
   "outputs": [
    {
     "name": "stdout",
     "output_type": "stream",
     "text": [
      "continuous\n"
     ]
    }
   ],
   "source": [
    "print(utils.multiclass.type_of_target(y_train))"
   ]
  },
  {
   "cell_type": "code",
   "execution_count": 95,
   "id": "1301c61a",
   "metadata": {},
   "outputs": [
    {
     "name": "stdout",
     "output_type": "stream",
     "text": [
      "multiclass\n"
     ]
    }
   ],
   "source": [
    "print(utils.multiclass.type_of_target(y_train.astype('int')))"
   ]
  },
  {
   "cell_type": "code",
   "execution_count": 96,
   "id": "c96a1e78",
   "metadata": {},
   "outputs": [
    {
     "name": "stdout",
     "output_type": "stream",
     "text": [
      "multiclass\n"
     ]
    }
   ],
   "source": [
    "print(utils.multiclass.type_of_target(encoded))"
   ]
  },
  {
   "cell_type": "code",
   "execution_count": 122,
   "id": "102783da",
   "metadata": {},
   "outputs": [],
   "source": [
    "X=data.drop(['output'],axis=1)\n",
    "y=data.output"
   ]
  },
  {
   "cell_type": "code",
   "execution_count": 123,
   "id": "772a3865",
   "metadata": {},
   "outputs": [
    {
     "name": "stdout",
     "output_type": "stream",
     "text": [
      "X Shape: (1697, 1)\n",
      "y Shape: (1697,)\n"
     ]
    }
   ],
   "source": [
    "print('X Shape:',X.shape)\n",
    "print('y Shape:',y.shape)"
   ]
  },
  {
   "cell_type": "markdown",
   "id": "24371f4b",
   "metadata": {},
   "source": [
    "# Feature Engineering"
   ]
  },
  {
   "cell_type": "markdown",
   "id": "ae1ccce8",
   "metadata": {},
   "source": [
    "Outliers"
   ]
  },
  {
   "cell_type": "code",
   "execution_count": 132,
   "id": "812f1b0e",
   "metadata": {},
   "outputs": [
    {
     "name": "stdout",
     "output_type": "stream",
     "text": [
      "Highest output 163.16713363966258\n",
      "Lowest output -231.34318214854292\n"
     ]
    }
   ],
   "source": [
    "print(\"Highest output\",data['output'].mean() + 3*data['output'].std())\n",
    "print(\"Lowest output\",data['output'].mean() - 3*data['output'].std())"
   ]
  },
  {
   "cell_type": "code",
   "execution_count": 133,
   "id": "1ddbe482",
   "metadata": {},
   "outputs": [
    {
     "data": {
      "text/html": [
       "<div>\n",
       "<style scoped>\n",
       "    .dataframe tbody tr th:only-of-type {\n",
       "        vertical-align: middle;\n",
       "    }\n",
       "\n",
       "    .dataframe tbody tr th {\n",
       "        vertical-align: top;\n",
       "    }\n",
       "\n",
       "    .dataframe thead th {\n",
       "        text-align: right;\n",
       "    }\n",
       "</style>\n",
       "<table border=\"1\" class=\"dataframe\">\n",
       "  <thead>\n",
       "    <tr style=\"text-align: right;\">\n",
       "      <th></th>\n",
       "      <th>input</th>\n",
       "      <th>output</th>\n",
       "    </tr>\n",
       "  </thead>\n",
       "  <tbody>\n",
       "    <tr>\n",
       "      <th>0</th>\n",
       "      <td>-122.740667</td>\n",
       "      <td>-130.572085</td>\n",
       "    </tr>\n",
       "    <tr>\n",
       "      <th>1</th>\n",
       "      <td>-121.531419</td>\n",
       "      <td>-129.938929</td>\n",
       "    </tr>\n",
       "    <tr>\n",
       "      <th>2</th>\n",
       "      <td>-134.917019</td>\n",
       "      <td>-130.141832</td>\n",
       "    </tr>\n",
       "    <tr>\n",
       "      <th>3</th>\n",
       "      <td>-120.605951</td>\n",
       "      <td>-125.760932</td>\n",
       "    </tr>\n",
       "    <tr>\n",
       "      <th>4</th>\n",
       "      <td>-129.894781</td>\n",
       "      <td>-112.785214</td>\n",
       "    </tr>\n",
       "    <tr>\n",
       "      <th>...</th>\n",
       "      <td>...</td>\n",
       "      <td>...</td>\n",
       "    </tr>\n",
       "    <tr>\n",
       "      <th>1692</th>\n",
       "      <td>25.410184</td>\n",
       "      <td>-76.380902</td>\n",
       "    </tr>\n",
       "    <tr>\n",
       "      <th>1693</th>\n",
       "      <td>29.537304</td>\n",
       "      <td>-82.796934</td>\n",
       "    </tr>\n",
       "    <tr>\n",
       "      <th>1694</th>\n",
       "      <td>31.633331</td>\n",
       "      <td>-87.000000</td>\n",
       "    </tr>\n",
       "    <tr>\n",
       "      <th>1695</th>\n",
       "      <td>29.091458</td>\n",
       "      <td>-104.943052</td>\n",
       "    </tr>\n",
       "    <tr>\n",
       "      <th>1696</th>\n",
       "      <td>17.145296</td>\n",
       "      <td>-101.726894</td>\n",
       "    </tr>\n",
       "  </tbody>\n",
       "</table>\n",
       "<p>1697 rows × 2 columns</p>\n",
       "</div>"
      ],
      "text/plain": [
       "           input      output\n",
       "0    -122.740667 -130.572085\n",
       "1    -121.531419 -129.938929\n",
       "2    -134.917019 -130.141832\n",
       "3    -120.605951 -125.760932\n",
       "4    -129.894781 -112.785214\n",
       "...          ...         ...\n",
       "1692   25.410184  -76.380902\n",
       "1693   29.537304  -82.796934\n",
       "1694   31.633331  -87.000000\n",
       "1695   29.091458 -104.943052\n",
       "1696   17.145296 -101.726894\n",
       "\n",
       "[1697 rows x 2 columns]"
      ]
     },
     "execution_count": 133,
     "metadata": {},
     "output_type": "execute_result"
    }
   ],
   "source": [
    "data[(data['output'] > -231.34318214854292) | (data['output'] < 163.16713363966258)]"
   ]
  },
  {
   "cell_type": "code",
   "execution_count": 136,
   "id": "b702b9df",
   "metadata": {},
   "outputs": [],
   "source": [
    "new_data = data[(data['output'] < 163.16713363966258) & (data['output'] > -231.34318214854292)]\n"
   ]
  },
  {
   "cell_type": "code",
   "execution_count": 137,
   "id": "e3d073e2",
   "metadata": {},
   "outputs": [],
   "source": [
    "upper_limit = data['output'].mean() + 3*data['output'].std()\n",
    "lower_limit = data['output'].mean() - 3*data['output'].std()"
   ]
  },
  {
   "cell_type": "code",
   "execution_count": 138,
   "id": "4fb49358",
   "metadata": {},
   "outputs": [],
   "source": [
    "data['output'] = np.where(\n",
    "    data['output']>upper_limit,\n",
    "    upper_limit,\n",
    "    np.where(\n",
    "        data['output']<lower_limit,\n",
    "        lower_limit,\n",
    "        data['output']\n",
    "    )\n",
    ")"
   ]
  },
  {
   "cell_type": "code",
   "execution_count": 139,
   "id": "f222491a",
   "metadata": {},
   "outputs": [
    {
     "data": {
      "text/plain": [
       "count    1697.000000\n",
       "mean      -34.088024\n",
       "std        65.751719\n",
       "min      -132.422167\n",
       "25%       -80.026767\n",
       "50%       -50.376850\n",
       "75%       -11.000000\n",
       "max       134.425495\n",
       "Name: output, dtype: float64"
      ]
     },
     "execution_count": 139,
     "metadata": {},
     "output_type": "execute_result"
    }
   ],
   "source": [
    "data['output'].describe()"
   ]
  },
  {
   "cell_type": "code",
   "execution_count": 140,
   "id": "4bc97a34",
   "metadata": {},
   "outputs": [],
   "source": [
    "from sklearn.preprocessing import StandardScaler    \n",
    "st_x= StandardScaler()    \n",
    "X_train= st_x.fit_transform(X_train)    \n",
    "X_test= st_x.transform(X_test)    "
   ]
  },
  {
   "cell_type": "code",
   "execution_count": 141,
   "id": "5d6bfb58",
   "metadata": {},
   "outputs": [
    {
     "name": "stdout",
     "output_type": "stream",
     "text": [
      "[[-1.43640295]\n",
      " [ 1.41484332]\n",
      " [ 1.47900234]\n",
      " ...\n",
      " [-1.53212351]\n",
      " [ 1.31890967]\n",
      " [-1.69627814]]\n"
     ]
    }
   ],
   "source": [
    "print(X_train)"
   ]
  },
  {
   "cell_type": "code",
   "execution_count": 142,
   "id": "bb2dfac9",
   "metadata": {},
   "outputs": [
    {
     "name": "stdout",
     "output_type": "stream",
     "text": [
      "[[ 0.36984753]\n",
      " [-0.64972821]\n",
      " [-0.4364853 ]\n",
      " [ 1.47740655]\n",
      " [ 1.02237724]\n",
      " [ 1.38276916]\n",
      " [-0.10305329]\n",
      " [ 0.13776545]\n",
      " [ 1.5862598 ]\n",
      " [-0.87383237]\n",
      " [ 0.20263927]\n",
      " [ 1.56695028]\n",
      " [ 1.18952937]\n",
      " [ 0.36719989]\n",
      " [-1.18420681]\n",
      " [-0.07274146]\n",
      " [-1.6875961 ]\n",
      " [-0.99639927]\n",
      " [ 1.13591269]\n",
      " [ 1.36951804]\n",
      " [-0.35681343]\n",
      " [-1.55174343]\n",
      " [-0.31015483]\n",
      " [-1.13523531]\n",
      " [ 0.97254822]\n",
      " [ 0.36982709]\n",
      " [-1.61485072]\n",
      " [-0.37826359]\n",
      " [ 1.11138426]\n",
      " [ 0.84020165]\n",
      " [-1.43747434]\n",
      " [ 0.79571165]\n",
      " [-0.31484052]\n",
      " [-1.43703544]\n",
      " [ 0.75798343]\n",
      " [ 0.77842347]\n",
      " [ 0.80860722]\n",
      " [-0.38351476]\n",
      " [ 1.26597852]\n",
      " [ 0.6797497 ]\n",
      " [ 0.45503388]\n",
      " [-1.57698635]\n",
      " [ 0.73630931]\n",
      " [-1.56436489]\n",
      " [-0.02455414]\n",
      " [ 0.38302915]\n",
      " [ 0.73946897]\n",
      " [-1.56443027]\n",
      " [ 0.11420737]\n",
      " [-1.19761647]\n",
      " [-1.23620697]\n",
      " [ 0.3075724 ]\n",
      " [-1.65805726]\n",
      " [ 1.43954218]\n",
      " [ 1.41463431]\n",
      " [ 0.18255381]\n",
      " [ 0.68905187]\n",
      " [ 0.04421003]\n",
      " [ 0.58590078]\n",
      " [-1.53525415]\n",
      " [ 0.67903741]\n",
      " [ 0.64425329]\n",
      " [ 0.64439031]\n",
      " [ 1.07259135]\n",
      " [ 0.30103268]\n",
      " [-1.36247905]\n",
      " [ 0.07642468]\n",
      " [ 1.06089843]\n",
      " [-0.12551865]\n",
      " [ 1.32490645]\n",
      " [ 0.56475139]\n",
      " [ 1.10858499]\n",
      " [ 1.56347861]\n",
      " [-1.13568509]\n",
      " [ 0.43801723]\n",
      " [ 1.30304284]\n",
      " [ 0.61557094]\n",
      " [ 1.56585373]\n",
      " [ 1.03828598]\n",
      " [ 0.02617574]\n",
      " [ 0.71473495]\n",
      " [-1.40883545]\n",
      " [ 0.21093803]\n",
      " [-0.35426409]\n",
      " [-0.76921302]\n",
      " [-1.52650051]\n",
      " [ 0.22931219]\n",
      " [-1.60564931]\n",
      " [ 0.92156953]\n",
      " [-0.78426064]\n",
      " [-0.22908805]\n",
      " [ 0.45506843]\n",
      " [-0.38542595]\n",
      " [ 0.28858894]\n",
      " [-1.5896078 ]\n",
      " [ 1.05919622]\n",
      " [-1.59641367]\n",
      " [ 1.04374324]\n",
      " [-0.22050312]\n",
      " [ 0.58255778]\n",
      " [ 0.2531251 ]\n",
      " [ 0.73630556]\n",
      " [ 0.06976079]\n",
      " [ 0.53453324]\n",
      " [-0.01924807]\n",
      " [ 1.49718324]\n",
      " [-1.45767166]\n",
      " [-0.00797217]\n",
      " [-1.5582198 ]\n",
      " [ 1.02716735]\n",
      " [ 0.2531251 ]\n",
      " [ 0.9319027 ]\n",
      " [-1.58606056]\n",
      " [ 1.03565551]\n",
      " [ 0.1016676 ]\n",
      " [-0.80200101]\n",
      " [ 0.38279865]\n",
      " [-0.19438671]\n",
      " [ 0.22788218]\n",
      " [-1.31100714]\n",
      " [ 0.51166173]\n",
      " [-1.47387992]\n",
      " [ 1.18274151]\n",
      " [-1.57698635]\n",
      " [ 1.44051812]\n",
      " [-1.5896078 ]\n",
      " [-1.4367722 ]\n",
      " [ 1.41429926]\n",
      " [ 1.32228528]\n",
      " [ 0.87657669]\n",
      " [-1.34768627]\n",
      " [-1.57871566]\n",
      " [ 0.31539739]\n",
      " [-1.48853875]\n",
      " [ 0.17739635]\n",
      " [-0.28169207]\n",
      " [ 0.54536839]\n",
      " [ 1.0389714 ]\n",
      " [-1.29025295]\n",
      " [-0.40429728]\n",
      " [ 0.88193156]\n",
      " [ 0.4956505 ]\n",
      " [ 0.19254591]\n",
      " [ 0.34147531]\n",
      " [ 0.44476416]\n",
      " [-0.40319073]\n",
      " [ 1.38905634]\n",
      " [ 0.9424574 ]\n",
      " [-1.52275138]\n",
      " [ 0.65701176]\n",
      " [ 0.30103268]\n",
      " [-1.22777183]\n",
      " [ 1.52065706]\n",
      " [ 0.02593885]\n",
      " [ 0.95992676]\n",
      " [-0.51912521]\n",
      " [-0.12583794]\n",
      " [ 0.68225468]\n",
      " [ 1.05110299]\n",
      " [ 0.49457238]\n",
      " [-1.23260797]\n",
      " [ 1.67103957]\n",
      " [ 0.63816475]\n",
      " [ 1.22497739]\n",
      " [ 0.77921823]\n",
      " [-1.64260474]\n",
      " [-1.55977772]\n",
      " [ 1.13662718]\n",
      " [ 1.65759363]\n",
      " [ 1.51527092]\n",
      " [-0.10250891]\n",
      " [ 1.38116627]\n",
      " [ 1.17847151]\n",
      " [ 1.0668836 ]\n",
      " [ 0.45580918]\n",
      " [-0.133929  ]\n",
      " [ 0.64439031]\n",
      " [ 0.46590398]\n",
      " [-1.20829816]\n",
      " [-0.67403538]\n",
      " [ 0.64048283]\n",
      " [ 0.02593885]\n",
      " [ 0.17351966]\n",
      " [ 0.38279865]\n",
      " [ 0.22788218]\n",
      " [-1.42552885]\n",
      " [ 1.30003205]\n",
      " [-1.52650051]\n",
      " [-1.25616212]\n",
      " [ 0.42206419]\n",
      " [-1.10566872]\n",
      " [-0.99616615]\n",
      " [ 0.95992676]\n",
      " [ 1.18755375]\n",
      " [-0.24793043]\n",
      " [ 0.88210708]\n",
      " [-0.27599795]\n",
      " [ 0.27454296]\n",
      " [ 1.47896493]\n",
      " [-0.44680045]\n",
      " [-0.54295593]\n",
      " [ 0.69249278]\n",
      " [-1.5896078 ]\n",
      " [-0.92497825]\n",
      " [-0.62713032]\n",
      " [-0.02616688]\n",
      " [ 0.63145042]\n",
      " [ 1.49496949]\n",
      " [ 0.83798597]\n",
      " [ 0.87157655]\n",
      " [-1.46764618]\n",
      " [ 0.4057255 ]\n",
      " [ 0.57515116]\n",
      " [ 0.03856031]\n",
      " [ 1.35752213]\n",
      " [-0.18948322]\n",
      " [-1.46339322]\n",
      " [ 0.69635375]\n",
      " [ 1.1390119 ]\n",
      " [-1.27648681]\n",
      " [ 1.40839805]\n",
      " [ 0.32960408]\n",
      " [-0.65867774]\n",
      " [ 1.69162354]\n",
      " [ 0.52734392]\n",
      " [ 0.89681947]\n",
      " [-0.00595349]\n",
      " [-1.39901127]\n",
      " [-1.06675319]\n",
      " [ 0.37933968]\n",
      " [ 0.97022364]\n",
      " [ 0.12981906]\n",
      " [ 0.05118177]\n",
      " [-0.92374812]\n",
      " [ 0.13953198]\n",
      " [ 0.19136948]\n",
      " [-1.40028593]\n",
      " [ 0.50937455]\n",
      " [-0.28365223]\n",
      " [-1.18984992]\n",
      " [ 0.34773689]\n",
      " [-0.15607976]\n",
      " [ 0.45615147]\n",
      " [-0.61701152]\n",
      " [ 0.21716938]\n",
      " [-1.52129503]\n",
      " [-0.60521313]\n",
      " [ 0.41181227]\n",
      " [ 0.35987899]\n",
      " [ 0.54536839]\n",
      " [ 0.79571165]\n",
      " [-1.03426364]\n",
      " [-0.06685417]\n",
      " [-1.38766447]\n",
      " [-0.50221355]\n",
      " [ 1.3752894 ]\n",
      " [ 0.45506843]\n",
      " [-1.48863614]\n",
      " [-1.54120137]\n",
      " [ 1.43446491]\n",
      " [-0.87030025]\n",
      " [ 0.22788218]\n",
      " [ 0.41364574]\n",
      " [-0.10288188]\n",
      " [ 0.9199425 ]\n",
      " [ 0.47653425]\n",
      " [ 1.32914576]\n",
      " [ 0.27755763]\n",
      " [-0.32746198]\n",
      " [-1.43747434]\n",
      " [ 1.59022131]\n",
      " [-1.31193572]\n",
      " [ 0.11755347]\n",
      " [-1.34382399]\n",
      " [-1.39901127]\n",
      " [-1.55541637]\n",
      " [-1.42552885]\n",
      " [-1.57698635]\n",
      " [-1.46339322]\n",
      " [-0.06132758]\n",
      " [ 1.40531825]\n",
      " [-0.19438671]\n",
      " [ 0.72011906]\n",
      " [ 1.27088672]\n",
      " [ 1.6087106 ]\n",
      " [-0.33710597]\n",
      " [-0.10288188]\n",
      " [-1.41464707]\n",
      " [ 0.30361093]\n",
      " [-0.12551865]\n",
      " [-1.69627814]\n",
      " [ 0.35842815]\n",
      " [ 1.57332463]\n",
      " [ 0.11041364]\n",
      " [ 0.49653676]\n",
      " [ 0.94943804]\n",
      " [-1.51586622]\n",
      " [ 0.40278122]\n",
      " [ 0.22335593]\n",
      " [-0.78492594]\n",
      " [-0.35426409]\n",
      " [ 0.01461751]\n",
      " [ 0.55830752]\n",
      " [ 1.21016892]\n",
      " [-0.95247854]\n",
      " [-1.52952061]\n",
      " [-1.55646384]\n",
      " [-1.5896078 ]\n",
      " [ 1.17740708]\n",
      " [-0.64311126]\n",
      " [ 0.94501591]\n",
      " [-1.22771305]\n",
      " [ 1.53271528]\n",
      " [ 1.01041259]\n",
      " [-1.52534469]\n",
      " [-0.75181469]\n",
      " [ 0.68225468]\n",
      " [-1.10566872]\n",
      " [-1.0903274 ]\n",
      " [-0.38147558]\n",
      " [-0.97353641]\n",
      " [-0.0497899 ]\n",
      " [ 0.11420737]\n",
      " [-0.02454698]\n",
      " [-0.02454698]\n",
      " [-1.44428962]\n",
      " [ 1.51527092]\n",
      " [ 0.13952676]\n",
      " [-1.45256383]\n",
      " [ 0.57515116]\n",
      " [-0.60521313]\n",
      " [ 0.69487614]\n",
      " [ 0.7529715 ]\n",
      " [ 0.26493311]\n",
      " [ 0.89393705]\n",
      " [ 0.48192232]\n",
      " [ 1.17847151]\n",
      " [ 0.06526612]\n",
      " [ 0.95749279]\n",
      " [ 1.41374037]]\n"
     ]
    }
   ],
   "source": [
    "print(X_test)"
   ]
  },
  {
   "cell_type": "markdown",
   "id": "fb52fea9",
   "metadata": {},
   "source": [
    "# ML Models"
   ]
  },
  {
   "cell_type": "code",
   "execution_count": 143,
   "id": "664e6296",
   "metadata": {},
   "outputs": [],
   "source": [
    "import warnings\n",
    "warnings.filterwarnings('ignore')"
   ]
  },
  {
   "cell_type": "code",
   "execution_count": 144,
   "id": "5cdb598b",
   "metadata": {},
   "outputs": [],
   "source": [
    "from sklearn.model_selection import train_test_split\n",
    "X_train,X_test,y_train,y_test = train_test_split(X,y,test_size=0.2,\n",
    "                                                 random_state=42)"
   ]
  },
  {
   "cell_type": "code",
   "execution_count": 145,
   "id": "58e09f9c",
   "metadata": {},
   "outputs": [],
   "source": [
    "from sklearn.linear_model import LinearRegression"
   ]
  },
  {
   "cell_type": "code",
   "execution_count": 146,
   "id": "9577060c",
   "metadata": {},
   "outputs": [
    {
     "data": {
      "text/plain": [
       "array([-21.43651295, -57.18904248, -49.71144859,  17.40124567,\n",
       "         1.44514937,  14.082683  , -38.01929325, -29.57472298,\n",
       "        21.21830282, -65.04749814, -27.29985217,  20.54119361,\n",
       "         7.30652009, -21.52935534, -75.93111445, -36.95637621,\n",
       "       -93.58300607, -69.34543925,   5.42639295,  13.61801809,\n",
       "       -46.91766803, -88.81918485, -45.28153342, -74.21387565,\n",
       "        -0.30215941, -21.43722969, -91.03211048, -47.66984116,\n",
       "         4.56627699,  -4.94303543, -84.81221513,  -6.50312545,\n",
       "       -45.44584238, -84.79682489,  -7.82610657,  -7.10935423,\n",
       "        -6.05092846, -47.85397891,   9.98729251, -10.56945719,\n",
       "       -18.44936114, -89.7043551 ,  -8.58613323, -89.26176998,\n",
       "       -35.26663531, -20.97428531,  -8.47533633, -89.26406274,\n",
       "       -30.4008125 , -76.4013389 , -77.75455667, -23.620258  ,\n",
       "       -92.54719458,  16.07349029,  15.20006912, -28.00417039,\n",
       "       -10.24326657, -32.8553452 , -13.8603714 , -88.24097035,\n",
       "       -10.59443457, -11.81417749, -11.80937272,   3.20596149,\n",
       "       -23.84958026, -82.18242396, -31.72570344,   2.79593648,\n",
       "       -38.80706548,  12.05366423, -14.60199763,   4.46811751,\n",
       "        20.41945592, -74.22964792, -19.04606845,  11.28699286,\n",
       "       -12.81995508,  20.50274199,   2.00300638, -33.48773732,\n",
       "        -9.34266158, -83.80796137, -27.0088471 , -46.82827254,\n",
       "       -61.37890696, -87.93401459, -26.36453722, -90.70945318,\n",
       "        -2.08978249, -61.90656815, -42.43883903, -18.44814963,\n",
       "       -47.9209971 , -24.28593368, -90.14694023,   2.73624663,\n",
       "       -90.38559519,   2.19437132, -42.13779893, -13.97759722,\n",
       "       -25.52951166,  -8.58626461, -31.95938013, -15.66162986,\n",
       "       -35.08057242,  18.09473691, -85.52045636, -34.68517079,\n",
       "       -89.04628572,   1.61311964, -25.52951166,  -1.7274388 ,\n",
       "       -90.02255234,   1.91076622, -30.84053319, -62.52865338,\n",
       "       -20.98236785, -41.22199864, -26.41468192, -80.37750551,\n",
       "       -16.46364421, -86.08881625,   7.06849639, -89.7043551 ,\n",
       "        16.10771274, -90.14694023, -84.78759381,  15.18832004,\n",
       "        11.96175018,  -3.66750511, -81.66369901, -89.76499551,\n",
       "       -23.34586635, -86.60284418, -28.18502243, -44.28345608,\n",
       "       -15.28168366,   2.02704146, -79.64973752, -48.58274078,\n",
       "        -3.47973087, -17.02509545, -27.65378678, -22.43141577,\n",
       "       -18.80948018, -48.54393828,  14.30314978,  -1.35732665,\n",
       "       -87.80254716, -11.36678759, -23.84958026, -77.45876934,\n",
       "        18.91787174, -33.49604395,  -0.74474454, -52.60930668,\n",
       "       -38.81826198, -10.48161734,   2.4524487 , -17.06290074,\n",
       "       -77.62835382,  24.19119753, -12.02767862,   8.54954313,\n",
       "        -7.08148524, -92.00533535, -89.10091604,   5.45144724,\n",
       "        23.71970102,  18.72900106, -38.00020411,  14.02647575,\n",
       "         6.91876425,   3.00581317, -18.42217454, -39.1019836 ,\n",
       "       -11.80937272, -18.06818936, -76.77590386, -58.0413999 ,\n",
       "       -11.94639249, -33.49604395, -28.32096296, -20.98236785,\n",
       "       -26.41468192, -84.39333358,  11.18141631, -87.93401459,\n",
       "       -78.45430567, -19.60547905, -73.17709118, -69.33726491,\n",
       "        -0.74474454,   7.23724269, -43.0995676 ,  -3.47357611,\n",
       "       -44.08378553, -24.77847112,  17.4558921 , -50.07316064,\n",
       "       -53.44495666, -10.12260741, -90.14694023, -66.84098377,\n",
       "       -56.39662312, -35.32318784, -12.26312395,  18.0171093 ,\n",
       "        -5.02073084,  -3.84284043, -85.87022359, -20.17841298,\n",
       "       -14.23731835, -33.05345882,  13.19736833, -41.05005268,\n",
       "       -85.72108896,  -9.98721825,   5.53507   , -79.16701275,\n",
       "        14.98138764, -22.84769321, -57.5028675 ,  24.91299692,\n",
       "       -15.9137312 ,  -2.95767018, -34.61438346, -83.46346612,\n",
       "       -71.81247609, -21.10366039,  -0.38367317, -29.85337169,\n",
       "       -32.6108737 , -66.79784787, -29.51277781, -27.69503949,\n",
       "       -83.50816332, -16.54384667, -44.3521911 , -76.12899615,\n",
       "       -22.21184666, -39.87872399, -18.41017186, -56.04179631,\n",
       "       -26.79033815, -87.75147855, -55.6280728 , -19.96497379,\n",
       "       -21.7860707 , -15.28168366,  -6.50312545, -70.67319463,\n",
       "       -36.74993191, -83.06557819, -52.01628094,  13.82039714,\n",
       "       -18.44814963, -86.60625921, -88.44951593,  15.89545051,\n",
       "       -64.92364029, -26.41468192, -19.90068134, -38.01328257,\n",
       "        -2.14683611, -17.69542727,  12.20232025, -24.67275841,\n",
       "       -45.88842751, -84.81221513,  21.35721751, -80.41006743,\n",
       "       -30.28347811, -81.52826398, -83.46346612, -88.94798053,\n",
       "       -84.39333358, -89.7043551 , -85.72108896, -36.55613612,\n",
       "        14.87339138, -41.22199864,  -9.15386196,  10.15940373,\n",
       "        22.0055648 , -46.22660438, -38.01328257, -84.01175221,\n",
       "       -23.75917115, -38.80706548, -93.88745113, -21.8369459 ,\n",
       "        20.76471738, -30.53384402, -16.99401763,  -1.11254308,\n",
       "       -87.56111166, -20.28165761, -26.57339985, -61.92989751,\n",
       "       -46.82827254, -33.89303902, -14.82795915,   8.03026826,\n",
       "       -67.80531141, -88.03991743, -88.98471111, -90.14694023,\n",
       "         6.88143872, -56.95701188,  -1.26760971, -77.45670808,\n",
       "        19.34070619,   1.02559597, -87.89348442, -60.76881556,\n",
       "       -10.48161734, -73.17709118, -72.63913125, -47.78247287,\n",
       "       -68.54372839, -36.15155471, -30.4008125 , -35.26638446,\n",
       "       -35.26638446, -85.05120043,  18.72900106, -29.51296057,\n",
       "       -85.34134446, -14.23731835, -55.6280728 , -10.03903221,\n",
       "        -8.00185546, -25.11545092,  -3.05874536, -17.50648898,\n",
       "         6.91876425, -32.11699047,  -0.83009454,  15.16872184])"
      ]
     },
     "execution_count": 146,
     "metadata": {},
     "output_type": "execute_result"
    }
   ],
   "source": [
    "lr=LinearRegression().fit(X_train,y_train)\n",
    "lr_y_pred=lr.predict(X_test)\n",
    "lr_y_pred"
   ]
  },
  {
   "cell_type": "code",
   "execution_count": 147,
   "id": "7eca1d15",
   "metadata": {},
   "outputs": [
    {
     "data": {
      "text/plain": [
       "array([  19.095654  , -107.97711282, -109.85704721, ...,  -80.02169489,\n",
       "        -73.54948983,  -96.79172538])"
      ]
     },
     "execution_count": 147,
     "metadata": {},
     "output_type": "execute_result"
    }
   ],
   "source": [
    "from sklearn.neighbors import KNeighborsRegressor\n",
    "kn=KNeighborsRegressor(n_neighbors=5)\n",
    "kn.fit(X,y)\n",
    "kn_y_pred=kn.predict(X)\n",
    "kn_y_pred"
   ]
  },
  {
   "cell_type": "code",
   "execution_count": 155,
   "id": "ffa4e2ca",
   "metadata": {},
   "outputs": [
    {
     "data": {
      "text/plain": [
       "array([ -55.3105793 , -111.97324596, -123.73919208, ...,  -83.12800037,\n",
       "        -85.56362193, -100.93436298])"
      ]
     },
     "execution_count": 155,
     "metadata": {},
     "output_type": "execute_result"
    }
   ],
   "source": [
    "from sklearn.ensemble import RandomForestRegressor\n",
    "rf = RandomForestRegressor(random_state = 42)\n",
    "rf.fit(X_train,y_train)\n",
    "rf_y_pred=rf.predict(X)\n",
    "rf_y_pred"
   ]
  },
  {
   "cell_type": "markdown",
   "id": "7be8c38e",
   "metadata": {},
   "source": [
    "# Hyperparameter tuning"
   ]
  },
  {
   "cell_type": "code",
   "execution_count": 161,
   "id": "3a7c299e",
   "metadata": {},
   "outputs": [
    {
     "name": "stdout",
     "output_type": "stream",
     "text": [
      "Fitting 3 folds for each of 288 candidates, totalling 864 fits\n"
     ]
    },
    {
     "data": {
      "text/plain": [
       "array([ -37.97956147,  -88.45019913, -112.02820492, ...,  -82.05083364,\n",
       "        -84.46381055,  -97.0406814 ])"
      ]
     },
     "execution_count": 161,
     "metadata": {},
     "output_type": "execute_result"
    }
   ],
   "source": [
    "from sklearn.model_selection import GridSearchCV\n",
    "param_grid = {\n",
    "    'bootstrap': [True],\n",
    "    'max_depth': [80, 90, 100, 110],\n",
    "    'max_features': [2, 3],\n",
    "    'min_samples_leaf': [3, 4, 5],\n",
    "    'min_samples_split': [8, 10, 12],\n",
    "    'n_estimators': [100, 200, 300, 1000]}\n",
    "grid_search = GridSearchCV(estimator = rf, param_grid = param_grid, \n",
    "                          cv = 3, n_jobs = -1, verbose = 2)\n",
    "grid_search.fit(X_train,y_train)\n",
    "grid_search_y_pred=grid_search.predict(X)\n",
    "grid_search_y_pred\n"
   ]
  },
  {
   "cell_type": "markdown",
   "id": "8cfffcc6",
   "metadata": {},
   "source": [
    "# Evalution Metrics"
   ]
  },
  {
   "cell_type": "code",
   "execution_count": 157,
   "id": "c532f101",
   "metadata": {},
   "outputs": [
    {
     "name": "stdout",
     "output_type": "stream",
     "text": [
      "MSE of Linear Regression 3924.0821704470704\n"
     ]
    }
   ],
   "source": [
    "from sklearn.metrics import mean_squared_error\n",
    "print(\"MSE of Linear Regression\",mean_squared_error(y_test,lr_y_pred))"
   ]
  },
  {
   "cell_type": "code",
   "execution_count": 153,
   "id": "5282f4f7",
   "metadata": {},
   "outputs": [
    {
     "name": "stdout",
     "output_type": "stream",
     "text": [
      "R2 score of Linear Regression: 0.15687380649348748\n"
     ]
    }
   ],
   "source": [
    "from sklearn.metrics import r2_score\n",
    "\n",
    "r2 = r2_score(y_test,lr_y_pred)\n",
    "print(\"R2 score of Linear Regression:\",r2)"
   ]
  },
  {
   "cell_type": "code",
   "execution_count": null,
   "id": "48ace81c",
   "metadata": {},
   "outputs": [],
   "source": []
  }
 ],
 "metadata": {
  "kernelspec": {
   "display_name": "Python 3",
   "language": "python",
   "name": "python3"
  },
  "language_info": {
   "codemirror_mode": {
    "name": "ipython",
    "version": 3
   },
   "file_extension": ".py",
   "mimetype": "text/x-python",
   "name": "python",
   "nbconvert_exporter": "python",
   "pygments_lexer": "ipython3",
   "version": "3.8.8"
  }
 },
 "nbformat": 4,
 "nbformat_minor": 5
}
